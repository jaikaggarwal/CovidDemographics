{
 "cells": [
  {
   "cell_type": "code",
   "execution_count": 90,
   "metadata": {},
   "outputs": [
    {
     "name": "stderr",
     "output_type": "stream",
     "text": [
      "\n"
     ]
    }
   ],
   "source": [
    "import sys\n",
    "import time\n",
    "import requests\n",
    "from datetime import datetime, timedelta\n",
    "import json\n",
    "import numpy as np\n",
    "import fasttext\n",
    "import os\n",
    "import re\n",
    "import matplotlib.pyplot as plt\n",
    "DIRNAME = 'data_r2/'\n",
    "PRETRAINED_MODEL_PATH = 'lid.176.bin'\n",
    "ft_model = fasttext.load_model(PRETRAINED_MODEL_PATH)\n",
    "PATTERN = re.compile(r'\\[?https?:\\/\\/.*[\\r\\n]*')"
   ]
  },
  {
   "cell_type": "code",
   "execution_count": 4,
   "metadata": {},
   "outputs": [],
   "source": [
    "def get_subreddit_data(file_name):\n",
    "    with open(file_name, 'r') as file:\n",
    "        data = file.readlines()\n",
    "        return [json.loads(line) for line in data] "
   ]
  },
  {
   "cell_type": "code",
   "execution_count": 11,
   "metadata": {
    "scrolled": true
   },
   "outputs": [
    {
     "name": "stdout",
     "output_type": "stream",
     "text": [
      "r.belgium.comment.json\n",
      "r.brasil.comment.json\n",
      "r.California.comment.json\n",
      "r.canada.comment.json\n",
      "r.canadacoronavirus.comment.json\n",
      "r.china.comment.json\n",
      "r.coronavirusAZ.comment.json\n",
      "r.coronavirusca.comment.json\n",
      "r.coronavirusNewYork.comment.json\n",
      "r.coronavirusuk.comment.json\n",
      "r.coronavirusus.comment.json\n",
      "r.europe.comment.json\n",
      "r.florida.comment.json\n",
      "r.france.comment.json\n",
      "r.germany.comment.json\n",
      "r.illinois.comment.json\n",
      "r.india.comment.json\n",
      "r.iran.comment.json\n",
      "r.italy.comment.json\n",
      "r.japan.comment.json\n",
      "r.korea.comment.json\n",
      "r.louisiana.comment.json\n",
      "r.massachusetts.comment.json\n",
      "r.michigan.comment.json\n",
      "r.newjersey.comment.json\n",
      "r.newyork.comment.json\n",
      "r.onguardforthee.comment.json\n",
      "r.Pennsylvania.comment.json\n",
      "r.peru.comment.json\n",
      "r.portugal.comment.json\n",
      "r.russia.comment.json\n",
      "r.singapore.comment.json\n",
      "r.spain.comment.json\n",
      "r.switzerland.comment.json\n",
      "r.texas.comment.json\n",
      "r.thenetherlands.comment.json\n",
      "r.turkey.comment.json\n",
      "r.unitedkingdom.comment.json\n",
      "r.unitedstatesofamerica.comment.json\n"
     ]
    }
   ],
   "source": [
    "all_data = []\n",
    "for file in os.listdir(DIRNAME):\n",
    "    if file.endswith('comment.json'):\n",
    "        print(file)\n",
    "        all_data.extend(get_subreddit_data(os.path.join(DIRNAME, file)))"
   ]
  },
  {
   "cell_type": "code",
   "execution_count": 32,
   "metadata": {
    "scrolled": true
   },
   "outputs": [
    {
     "name": "stdout",
     "output_type": "stream",
     "text": [
      "218899\n"
     ]
    },
    {
     "data": {
      "text/plain": [
       "['AutoModerator']"
      ]
     },
     "execution_count": 32,
     "metadata": {},
     "output_type": "execute_result"
    }
   ],
   "source": [
    "authors = [element['author'] for element in all_data]\n",
    "print(len(authors))\n",
    "authors_set = set(authors)\n",
    "[author for author in authors_set if 'AutoM' in author]# or 'Bot' in author or 'Mod' in author]"
   ]
  },
  {
   "cell_type": "code",
   "execution_count": 38,
   "metadata": {},
   "outputs": [
    {
     "name": "stdout",
     "output_type": "stream",
     "text": [
      "LENGTH OF ALL DATA BEFORE REMOVING BOT AND AUTOMODERATOR COMMENTS: 218899\n",
      "LENGTH OF ALL DATA AFTER REMOVING BOT AND AUTOMODERATOR COMMENTS: 216652\n"
     ]
    }
   ],
   "source": [
    "print(f\"LENGTH OF ALL DATA BEFORE REMOVING BOT AND AUTOMODERATOR COMMENTS: {len(all_data)}\")\n",
    "new_data = [element for element in all_data if element['author'] != 'AutoModerator' and (not element['author'].endswith('Bot')) and ( not element['author'].endswith('bot'))]\n",
    "print(f\"LENGTH OF ALL DATA AFTER REMOVING BOT AND AUTOMODERATOR COMMENTS: {len(new_data)}\")"
   ]
  },
  {
   "cell_type": "code",
   "execution_count": 45,
   "metadata": {
    "scrolled": true
   },
   "outputs": [
    {
     "name": "stdout",
     "output_type": "stream",
     "text": [
      "233807\n"
     ]
    }
   ],
   "source": [
    "all_data = []\n",
    "for file in os.listdir(DIRNAME):\n",
    "    if file.endswith('comment.json'):\n",
    "        data = get_subreddit_data(os.path.join(DIRNAME, file))\n",
    "        all_data.extend([line['body'] for line in data])\n",
    "    elif file.endswith('submission.json'):\n",
    "        data = get_subreddit_data(os.path.join(DIRNAME, file))\n",
    "        all_data.extend([line['selftext'] for line in data])\n",
    "# all_data = [line['body'] for line in all_data]\n",
    "print(len(all_data))\n",
    "#     print(post['selftext'])\n",
    "#     print(post['author'])\n",
    "#     print(ft_model.predict(post['selftext']))"
   ]
  },
  {
   "cell_type": "code",
   "execution_count": 96,
   "metadata": {},
   "outputs": [],
   "source": [
    "def preproc(text):\n",
    "    new = re.sub(PATTERN, '', text)\n",
    "    return new"
   ]
  },
  {
   "cell_type": "code",
   "execution_count": 104,
   "metadata": {
    "scrolled": true
   },
   "outputs": [
    {
     "name": "stdout",
     "output_type": "stream",
     "text": [
      "1000\n",
      "2000\n",
      "3000\n",
      "4000\n",
      "5000\n",
      "6000\n",
      "7000\n",
      "8000\n",
      "9000\n",
      "10000\n",
      "11000\n",
      "12000\n",
      "13000\n",
      "14000\n",
      "15000\n",
      "16000\n",
      "17000\n",
      "18000\n",
      "19000\n",
      "20000\n",
      "21000\n",
      "22000\n",
      "23000\n",
      "24000\n",
      "25000\n",
      "26000\n",
      "27000\n",
      "28000\n",
      "29000\n",
      "30000\n",
      "31000\n",
      "32000\n",
      "33000\n",
      "34000\n",
      "35000\n",
      "36000\n",
      "37000\n",
      "38000\n",
      "39000\n",
      "40000\n",
      "41000\n",
      "42000\n",
      "43000\n",
      "44000\n",
      "45000\n",
      "46000\n",
      "47000\n",
      "48000\n",
      "49000\n",
      "50000\n",
      "51000\n",
      "52000\n",
      "53000\n",
      "54000\n",
      "55000\n",
      "56000\n",
      "57000\n",
      "58000\n",
      "59000\n",
      "60000\n",
      "61000\n",
      "62000\n",
      "63000\n",
      "64000\n",
      "65000\n",
      "66000\n",
      "67000\n",
      "68000\n",
      "69000\n",
      "70000\n",
      "71000\n",
      "72000\n",
      "73000\n",
      "74000\n",
      "75000\n",
      "76000\n",
      "77000\n",
      "78000\n",
      "79000\n",
      "80000\n",
      "81000\n",
      "82000\n",
      "83000\n",
      "84000\n",
      "85000\n",
      "86000\n",
      "87000\n",
      "88000\n",
      "89000\n",
      "90000\n",
      "91000\n",
      "92000\n",
      "93000\n",
      "94000\n",
      "95000\n",
      "96000\n",
      "97000\n",
      "98000\n",
      "99000\n",
      "100000\n",
      "101000\n",
      "102000\n",
      "103000\n",
      "104000\n",
      "105000\n",
      "106000\n",
      "107000\n",
      "108000\n",
      "109000\n",
      "110000\n",
      "111000\n",
      "112000\n",
      "113000\n",
      "114000\n",
      "115000\n",
      "116000\n",
      "117000\n",
      "118000\n",
      "119000\n",
      "120000\n",
      "121000\n",
      "122000\n",
      "123000\n",
      "124000\n",
      "125000\n",
      "126000\n",
      "127000\n",
      "128000\n",
      "129000\n",
      "130000\n",
      "131000\n",
      "132000\n",
      "133000\n",
      "134000\n",
      "135000\n",
      "136000\n",
      "137000\n",
      "138000\n",
      "139000\n",
      "140000\n",
      "141000\n",
      "142000\n",
      "143000\n",
      "144000\n",
      "145000\n",
      "146000\n",
      "147000\n",
      "148000\n",
      "149000\n",
      "150000\n",
      "151000\n",
      "152000\n",
      "153000\n",
      "154000\n",
      "155000\n",
      "156000\n",
      "157000\n",
      "158000\n",
      "159000\n",
      "160000\n",
      "161000\n",
      "162000\n",
      "163000\n",
      "164000\n",
      "165000\n",
      "166000\n",
      "167000\n",
      "168000\n",
      "169000\n",
      "170000\n",
      "171000\n",
      "172000\n",
      "173000\n",
      "174000\n",
      "175000\n",
      "176000\n",
      "177000\n",
      "178000\n",
      "179000\n",
      "180000\n",
      "181000\n",
      "182000\n",
      "183000\n",
      "184000\n",
      "185000\n",
      "186000\n",
      "187000\n",
      "188000\n",
      "189000\n",
      "190000\n",
      "191000\n",
      "192000\n",
      "193000\n",
      "194000\n",
      "195000\n",
      "196000\n",
      "197000\n",
      "198000\n",
      "199000\n",
      "200000\n",
      "201000\n",
      "202000\n",
      "203000\n",
      "204000\n",
      "205000\n",
      "206000\n",
      "207000\n",
      "208000\n",
      "209000\n",
      "210000\n",
      "211000\n",
      "212000\n",
      "213000\n",
      "214000\n",
      "215000\n",
      "216000\n",
      "217000\n",
      "218000\n",
      "219000\n",
      "220000\n",
      "221000\n",
      "222000\n",
      "223000\n",
      "224000\n",
      "225000\n",
      "226000\n",
      "227000\n",
      "228000\n",
      "229000\n",
      "230000\n",
      "231000\n",
      "232000\n",
      "233000\n"
     ]
    }
   ],
   "source": [
    "vals = []\n",
    "count = 0\n",
    "for line in all_data:\n",
    "#     print(line)\n",
    "    count += 1\n",
    "    val = ft_model.predict(line)[1][0]\n",
    "    vals.append(val)\n",
    "    if count % 1000 == 0:\n",
    "        print(count)    "
   ]
  },
  {
   "cell_type": "code",
   "execution_count": 61,
   "metadata": {},
   "outputs": [
    {
     "data": {
      "text/plain": [
       "(array([  1743.,   3285.,   2450.,   3334.,   3816.,   5559.,   8349.,\n",
       "         16512.,  48986., 139773.]),\n",
       " array([0.60000008, 0.63999914, 0.6799982 , 0.71999725, 0.75999631,\n",
       "        0.79999536, 0.83999442, 0.87999347, 0.91999253, 0.95999159,\n",
       "        0.99999064]),\n",
       " <a list of 10 Patch objects>)"
      ]
     },
     "execution_count": 61,
     "metadata": {},
     "output_type": "execute_result"
    },
    {
     "data": {
      "image/png": "[encoded data removed]",
      "text/plain": [
       "<Figure size 432x288 with 1 Axes>"
      ]
     },
     "metadata": {
      "needs_background": "light"
     },
     "output_type": "display_data"
    }
   ],
   "source": [
    "plt.hist(vals)"
   ]
  },
  {
   "cell_type": "code",
   "execution_count": 98,
   "metadata": {},
   "outputs": [
    {
     "name": "stdout",
     "output_type": "stream",
     "text": [
      "1000\n",
      "2000\n",
      "3000\n",
      "4000\n",
      "5000\n",
      "6000\n",
      "7000\n",
      "8000\n",
      "9000\n",
      "10000\n",
      "11000\n",
      "12000\n",
      "13000\n",
      "14000\n",
      "15000\n",
      "16000\n",
      "17000\n",
      "18000\n",
      "19000\n",
      "20000\n",
      "21000\n",
      "22000\n",
      "23000\n",
      "24000\n",
      "25000\n",
      "26000\n",
      "27000\n",
      "28000\n",
      "29000\n",
      "30000\n",
      "31000\n",
      "32000\n",
      "33000\n",
      "34000\n",
      "35000\n",
      "36000\n",
      "37000\n",
      "38000\n",
      "39000\n",
      "40000\n",
      "41000\n",
      "42000\n",
      "43000\n",
      "44000\n",
      "45000\n",
      "46000\n",
      "47000\n",
      "48000\n",
      "49000\n",
      "50000\n",
      "51000\n",
      "52000\n",
      "53000\n",
      "54000\n",
      "55000\n",
      "56000\n",
      "57000\n",
      "58000\n",
      "59000\n",
      "60000\n",
      "61000\n",
      "62000\n",
      "63000\n",
      "64000\n",
      "65000\n",
      "66000\n",
      "67000\n",
      "68000\n",
      "69000\n",
      "70000\n",
      "71000\n",
      "72000\n",
      "73000\n",
      "74000\n",
      "75000\n",
      "76000\n",
      "77000\n",
      "78000\n",
      "79000\n",
      "80000\n",
      "81000\n",
      "82000\n",
      "83000\n",
      "84000\n",
      "85000\n",
      "86000\n",
      "87000\n",
      "88000\n",
      "89000\n",
      "90000\n",
      "91000\n",
      "92000\n",
      "93000\n",
      "94000\n",
      "95000\n",
      "96000\n",
      "97000\n",
      "98000\n",
      "99000\n",
      "100000\n",
      "101000\n",
      "102000\n",
      "103000\n",
      "104000\n",
      "105000\n",
      "106000\n",
      "107000\n",
      "108000\n",
      "109000\n",
      "110000\n",
      "111000\n",
      "112000\n",
      "113000\n",
      "114000\n",
      "115000\n",
      "116000\n",
      "117000\n",
      "118000\n",
      "119000\n",
      "120000\n",
      "121000\n",
      "122000\n",
      "123000\n",
      "124000\n",
      "125000\n",
      "126000\n",
      "127000\n",
      "128000\n",
      "129000\n",
      "130000\n",
      "131000\n",
      "132000\n",
      "133000\n",
      "134000\n",
      "135000\n",
      "136000\n",
      "137000\n",
      "138000\n",
      "139000\n",
      "140000\n",
      "141000\n",
      "142000\n",
      "143000\n",
      "144000\n",
      "145000\n",
      "146000\n",
      "147000\n",
      "148000\n",
      "149000\n",
      "150000\n",
      "151000\n",
      "152000\n",
      "153000\n",
      "154000\n",
      "155000\n",
      "156000\n",
      "157000\n",
      "158000\n",
      "159000\n",
      "160000\n",
      "161000\n",
      "162000\n",
      "163000\n",
      "164000\n",
      "165000\n",
      "166000\n",
      "167000\n",
      "168000\n",
      "169000\n",
      "170000\n",
      "171000\n",
      "172000\n",
      "173000\n",
      "174000\n",
      "175000\n",
      "176000\n",
      "177000\n",
      "178000\n",
      "179000\n",
      "180000\n",
      "181000\n",
      "182000\n",
      "183000\n",
      "184000\n",
      "185000\n",
      "186000\n",
      "187000\n",
      "188000\n",
      "189000\n",
      "190000\n",
      "191000\n",
      "192000\n",
      "193000\n",
      "194000\n",
      "195000\n",
      "196000\n",
      "197000\n",
      "198000\n",
      "199000\n",
      "200000\n",
      "201000\n",
      "202000\n",
      "203000\n",
      "204000\n",
      "205000\n",
      "206000\n",
      "207000\n",
      "208000\n",
      "209000\n",
      "210000\n",
      "211000\n",
      "212000\n",
      "213000\n",
      "214000\n",
      "215000\n",
      "216000\n",
      "217000\n",
      "218000\n",
      "219000\n",
      "220000\n",
      "221000\n",
      "222000\n",
      "223000\n",
      "224000\n",
      "225000\n",
      "226000\n",
      "227000\n",
      "228000\n",
      "229000\n",
      "230000\n",
      "231000\n",
      "232000\n",
      "233000\n"
     ]
    }
   ],
   "source": [
    "preproc_vals = []\n",
    "count = 0\n",
    "for line in all_data:\n",
    "#     print(line)\n",
    "    count += 1\n",
    "    val = ft_model.predict(preproc(line))[1][0]\n",
    "    preproc_vals.append(val)\n",
    "    if count % 1000 == 0:\n",
    "        print(count)    "
   ]
  },
  {
   "cell_type": "code",
   "execution_count": 112,
   "metadata": {},
   "outputs": [],
   "source": [
    "preproc_vals = np.array(preproc_vals)\n",
    "vals = np.array(vals)"
   ]
  },
  {
   "cell_type": "code",
   "execution_count": 143,
   "metadata": {},
   "outputs": [
    {
     "data": {
      "text/plain": [
       "array([0.  , 0.05, 0.1 , 0.15, 0.2 , 0.25, 0.3 , 0.35, 0.4 , 0.45, 0.5 ,\n",
       "       0.55, 0.6 , 0.65, 0.7 , 0.75, 0.8 , 0.85, 0.9 , 0.95, 1.  ])"
      ]
     },
     "execution_count": 143,
     "metadata": {},
     "output_type": "execute_result"
    }
   ],
   "source": [
    "bins = np.arange(0, 1.05, 0.05)\n",
    "bins"
   ]
  },
  {
   "cell_type": "code",
   "execution_count": 144,
   "metadata": {},
   "outputs": [
    {
     "data": {
      "image/png": "[encoded data removed]",
      "text/plain": [
       "<Figure size 432x288 with 2 Axes>"
      ]
     },
     "metadata": {
      "needs_background": "light"
     },
     "output_type": "display_data"
    }
   ],
   "source": [
    "fig, ax = plt.subplots(1, 2, sharey=True)\n",
    "ax[0].hist(preproc_vals, label = '', bins=bins)\n",
    "ax[1].hist(vals, color='red', bins=bins)\n",
    "ax[0].set_xlim([0, 1.05])\n",
    "ax[1].set_xlim([0, 1.05])\n",
    "fig.suptitle('Comparing Percentage of English Posts with and Without Hyperlinks', x=1)\n",
    "ax[0].set_title(f'Hyperlinks absent (n={len(preproc_vals)})')\n",
    "ax[1].set_title(f'Hyperlinks present (n={len(vals)})')\n",
    "fig.subplots_adjust(right=2)"
   ]
  },
  {
   "cell_type": "code",
   "execution_count": 145,
   "metadata": {},
   "outputs": [
    {
     "data": {
      "image/png": "[encoded data removed]",
      "text/plain": [
       "<Figure size 432x288 with 2 Axes>"
      ]
     },
     "metadata": {
      "needs_background": "light"
     },
     "output_type": "display_data"
    }
   ],
   "source": [
    "fig, ax = plt.subplots(1, 2, sharey=True)\n",
    "ax[0].hist(preproc_vals[preproc_vals>0.6], label = '', bins=bins)\n",
    "ax[1].hist(vals[vals>0.6], color='red', bins=bins)\n",
    "ax[0].set_xlim([0.6, 1.05])\n",
    "ax[1].set_xlim([0.6, 1.05])\n",
    "fig.suptitle('Comparing Percentage of English Posts with and Without Hyperlinks', x=1)\n",
    "ax[0].set_title(f'Hyperlinks absent (n={len(preproc_vals[preproc_vals>0.6])})')\n",
    "ax[1].set_title(f'Hyperlinks present (n={len(vals[vals>0.6])})')\n",
    "fig.subplots_adjust(right=2)"
   ]
  },
  {
   "cell_type": "code",
   "execution_count": 146,
   "metadata": {},
   "outputs": [
    {
     "name": "stdout",
     "output_type": "stream",
     "text": [
      "220709\n",
      "219179\n"
     ]
    }
   ],
   "source": [
    "print(len(preproc_vals[preproc_vals>0.8]))\n",
    "print(len(vals[vals>0.8]))"
   ]
  },
  {
   "cell_type": "code",
   "execution_count": 148,
   "metadata": {},
   "outputs": [
    {
     "name": "stdout",
     "output_type": "stream",
     "text": [
      "0.9618200705972639\n",
      "0.9570051121820726\n"
     ]
    }
   ],
   "source": [
    "print(np.mean(preproc_vals[preproc_vals>0.8]))\n",
    "print(np.mean(vals[vals>0.8]))"
   ]
  }
 ],
 "metadata": {
  "kernelspec": {
   "display_name": "Python 3",
   "language": "python",
   "name": "python3"
  },
  "language_info": {
   "codemirror_mode": {
    "name": "ipython",
    "version": 3
   },
   "file_extension": ".py",
   "mimetype": "text/x-python",
   "name": "python",
   "nbconvert_exporter": "python",
   "pygments_lexer": "ipython3",
   "version": "3.6.2"
  }
 },
 "nbformat": 4,
 "nbformat_minor": 2
}
